{
 "cells": [
  {
   "cell_type": "markdown",
   "metadata": {},
   "source": [
    "# Vertex AI Gemini Pro (Vision)\n",
    "\n",
    "Already, there are lots of LLMs and embedding models in the world. But multi-modal (Image / Video) supported models are few.\n",
    "\n",
    "In this example, we will show the how to use it on the RPA segment. "
   ]
  },
  {
   "cell_type": "code",
   "execution_count": 1,
   "metadata": {},
   "outputs": [],
   "source": [
    "#! pip3 install --upgrade google-cloud-aiplatform\n",
    "#! pip3 install google-cloud-storage"
   ]
  },
  {
   "cell_type": "code",
   "execution_count": 2,
   "metadata": {},
   "outputs": [],
   "source": [
    "# import IPython\n",
    "\n",
    "# app = IPython.Application.instance()\n",
    "# app.kernel.do_shutdown(True)"
   ]
  },
  {
   "cell_type": "markdown",
   "metadata": {},
   "source": [
    "Wait for restarting the kernel."
   ]
  },
  {
   "cell_type": "code",
   "execution_count": 8,
   "metadata": {},
   "outputs": [],
   "source": [
    "from vertexai.preview.generative_models import (\n",
    "    GenerationConfig,\n",
    "    GenerativeModel,\n",
    "    Image,\n",
    "    Part,\n",
    "    HarmBlockThreshold,\n",
    "    HarmCategory,\n",
    ")"
   ]
  },
  {
   "cell_type": "code",
   "execution_count": 9,
   "metadata": {},
   "outputs": [],
   "source": [
    "multimodal_model = GenerativeModel(\"gemini-pro-vision\")"
   ]
  },
  {
   "cell_type": "markdown",
   "metadata": {},
   "source": [
    "### Video Captioning Test\n",
    "\n",
    "The sample video(wooribank_login.mp4) is made from the window's recording. And it was converted into 10fps to reduce video size (under 8 MB - the limit of Gemini Pro video clip)."
   ]
  },
  {
   "cell_type": "code",
   "execution_count": 10,
   "metadata": {},
   "outputs": [],
   "source": [
    "import os\n",
    "\n",
    "#os.environ[\"BUCKET_UPLOAD_TEMP\"] = \"<your-bucket>\""
   ]
  },
  {
   "cell_type": "code",
   "execution_count": 7,
   "metadata": {},
   "outputs": [],
   "source": [
    "from google.cloud import storage\n",
    "\n",
    "bucket_name = os.environ.get(\"BUCKET_UPLOAD_TEMP\")\n",
    "storage_client = storage.Client()\n",
    "bucket = storage_client.bucket(bucket_name)\n",
    "\n",
    "blob = bucket.blob(\"wooribank_login.mp4\")\n",
    "blob.upload_from_filename(\"resources/wooribank_login.mp4\")\n",
    "\n",
    "\n"
   ]
  },
  {
   "cell_type": "code",
   "execution_count": 19,
   "metadata": {},
   "outputs": [],
   "source": [
    "prompt = \"Please describe the user's actions in this video in detail, including the URL sites they accessed and the buttons they clicked.\"\n",
    "\n",
    "generation_config = GenerationConfig(\n",
    "    temperature=0.1,\n",
    "    max_output_tokens=2048,\n",
    ")\n",
    "\n",
    "safety_config = {\n",
    "    HarmCategory.HARM_CATEGORY_HARASSMENT: HarmBlockThreshold.BLOCK_NONE,\n",
    "    HarmCategory.HARM_CATEGORY_HATE_SPEECH: HarmBlockThreshold.BLOCK_NONE,\n",
    "    HarmCategory.HARM_CATEGORY_SEXUALLY_EXPLICIT: HarmBlockThreshold.BLOCK_NONE,\n",
    "    HarmCategory.HARM_CATEGORY_DANGEROUS_CONTENT: HarmBlockThreshold.BLOCK_NONE,\n",
    "}\n",
    "\n",
    "video = Part.from_uri(\n",
    "    uri=f\"gs://{bucket_name}/wooribank_login.mp4\",\n",
    "    mime_type=\"video/mp4\",\n",
    ")\n",
    "contents = [prompt, video]\n",
    "\n",
    "responses = multimodal_model.generate_content(contents, generation_config=generation_config, \n",
    "    safety_settings=safety_config, stream=False)\n"
   ]
  },
  {
   "cell_type": "code",
   "execution_count": 20,
   "metadata": {},
   "outputs": [
    {
     "name": "stdout",
     "output_type": "stream",
     "text": [
      "candidates {\n",
      "  content {\n",
      "    role: \"model\"\n",
      "    parts {\n",
      "      text: \" The user opens Google Chrome and goes to google.com. They then search for \\\"wooribank.\\\" The user clicks on the first result, which is the Woori Bank website.\\n\\nOn the Woori Bank website, the user clicks on the \\\"Personal Login\\\" button. A login page appears, and the user enters their login information. The user then clicks on the \\\"Login\\\" button.\\n\\nThe user is now logged into their Woori Bank account. They click on the \\\"My Profile\\\" tab, and then click on the \\\"Change Password\\\" link. The user enters their current password and new password, and then clicks on the \\\"Change Password\\\" button.\\n\\nThe user\\'s password has now been changed. They click on the \\\"Logout\\\" button to log out of their account.\"\n",
      "    }\n",
      "  }\n",
      "  finish_reason: STOP\n",
      "  safety_ratings {\n",
      "    category: HARM_CATEGORY_HARASSMENT\n",
      "    probability: NEGLIGIBLE\n",
      "  }\n",
      "  safety_ratings {\n",
      "    category: HARM_CATEGORY_HATE_SPEECH\n",
      "    probability: NEGLIGIBLE\n",
      "  }\n",
      "  safety_ratings {\n",
      "    category: HARM_CATEGORY_SEXUALLY_EXPLICIT\n",
      "    probability: NEGLIGIBLE\n",
      "  }\n",
      "  safety_ratings {\n",
      "    category: HARM_CATEGORY_DANGEROUS_CONTENT\n",
      "    probability: MEDIUM\n",
      "  }\n",
      "}\n",
      "usage_metadata {\n",
      "  prompt_token_count: 1057\n",
      "  candidates_token_count: 161\n",
      "  total_token_count: 1218\n",
      "}\n",
      "\n"
     ]
    }
   ],
   "source": [
    "print(responses)"
   ]
  },
  {
   "cell_type": "markdown",
   "metadata": {},
   "source": [
    "### Snapshot analysis\n",
    "\n",
    "Gemini Pro (Vision) can analyze multiple snapshots at once. \n",
    "\n",
    "I will provide Gemini Pro with snapshots of investing.com & UTHY chart and ask them to interpret them"
   ]
  },
  {
   "cell_type": "code",
   "execution_count": 11,
   "metadata": {},
   "outputs": [],
   "source": [
    "def upload_file_to_temp_bucket(file_name):\n",
    "    storage_client = storage.Client()\n",
    "    bucket = storage_client.bucket(bucket_name)\n",
    "\n",
    "    blob = bucket.blob(file_name)\n",
    "    blob.upload_from_filename(file_name)\n",
    "    \n",
    "    return blob.public_url.replace(\"https://storage.googleapis.com/\", \"gs://\")"
   ]
  },
  {
   "cell_type": "code",
   "execution_count": 12,
   "metadata": {},
   "outputs": [],
   "source": [
    "image1_uri = upload_file_to_temp_bucket(\"resources/investing-1.png\")\n",
    "image2_uri = upload_file_to_temp_bucket(\"resources/investing-2.png\")\n",
    "image3_uri = upload_file_to_temp_bucket(\"resources/investing-3.png\")\n",
    "image4_uri = upload_file_to_temp_bucket(\"resources/investing-4.png\")\n",
    "\n",
    "image_uris = [image1_uri, image2_uri, image3_uri, image4_uri]\n",
    "\n",
    "prompt = \"Please explain the what the user is doing in the provided screenshots.\"\n",
    "\n",
    "contents = [prompt]\n",
    "\n",
    "generation_config = GenerationConfig(\n",
    "    temperature=0.1,\n",
    "    max_output_tokens=2048,\n",
    ")\n",
    "\n",
    "safety_config = {\n",
    "    HarmCategory.HARM_CATEGORY_HARASSMENT: HarmBlockThreshold.BLOCK_NONE,\n",
    "    HarmCategory.HARM_CATEGORY_HATE_SPEECH: HarmBlockThreshold.BLOCK_NONE,\n",
    "    HarmCategory.HARM_CATEGORY_SEXUALLY_EXPLICIT: HarmBlockThreshold.BLOCK_NONE,\n",
    "    HarmCategory.HARM_CATEGORY_DANGEROUS_CONTENT: HarmBlockThreshold.BLOCK_NONE,\n",
    "}\n",
    "\n",
    "for image_uri in image_uris:\n",
    "    image = Part.from_uri(\n",
    "        uri=image_uri,\n",
    "        mime_type=\"image/png\",\n",
    "    )\n",
    "    contents.append(image)\n",
    "\n",
    "responses = multimodal_model.generate_content(contents, generation_config=generation_config, safety_settings=safety_config, stream=False)\n",
    "\n",
    "\n"
   ]
  },
  {
   "cell_type": "code",
   "execution_count": 14,
   "metadata": {},
   "outputs": [
    {
     "name": "stdout",
     "output_type": "stream",
     "text": [
      "candidates {\n",
      "  content {\n",
      "    role: \"model\"\n",
      "    parts {\n",
      "      text: \" The user is viewing a stock chart for the US Treasury 30 Year Bond ETF (UTHY). They are looking at the price history of the ETF, and they are using the interactive chart to zoom in and out and to view different time periods. The user is also looking at the news and other information about the ETF.\"\n",
      "    }\n",
      "  }\n",
      "  finish_reason: STOP\n",
      "  safety_ratings {\n",
      "    category: HARM_CATEGORY_HARASSMENT\n",
      "    probability: NEGLIGIBLE\n",
      "  }\n",
      "  safety_ratings {\n",
      "    category: HARM_CATEGORY_HATE_SPEECH\n",
      "    probability: NEGLIGIBLE\n",
      "  }\n",
      "  safety_ratings {\n",
      "    category: HARM_CATEGORY_SEXUALLY_EXPLICIT\n",
      "    probability: NEGLIGIBLE\n",
      "  }\n",
      "  safety_ratings {\n",
      "    category: HARM_CATEGORY_DANGEROUS_CONTENT\n",
      "    probability: NEGLIGIBLE\n",
      "  }\n",
      "}\n",
      "usage_metadata {\n",
      "  prompt_token_count: 1045\n",
      "  candidates_token_count: 66\n",
      "  total_token_count: 1111\n",
      "}\n",
      "\n"
     ]
    }
   ],
   "source": [
    "print(responses)"
   ]
  }
 ],
 "metadata": {
  "kernelspec": {
   "display_name": ".venv",
   "language": "python",
   "name": "python3"
  },
  "language_info": {
   "codemirror_mode": {
    "name": "ipython",
    "version": 3
   },
   "file_extension": ".py",
   "mimetype": "text/x-python",
   "name": "python",
   "nbconvert_exporter": "python",
   "pygments_lexer": "ipython3",
   "version": "3.8.5"
  }
 },
 "nbformat": 4,
 "nbformat_minor": 2
}
